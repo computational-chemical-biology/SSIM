{
  "nbformat": 4,
  "nbformat_minor": 0,
  "metadata": {
    "colab": {
      "provenance": []
    },
    "kernelspec": {
      "name": "python3",
      "display_name": "Python 3"
    },
    "language_info": {
      "name": "python"
    }
  },
  "cells": [
    {
      "cell_type": "markdown",
      "source": [
        "# Exemplo do uso de LLM para interpretação de texto\n",
        "\n",
        "[Improving drug repositioning with negative data labeling using large language models](https://jcheminf.biomedcentral.com/articles/10.1186/s13321-025-00962-0)\n",
        "\n",
        "O código do trabalho pode ser encontrado [aqui](https://github.com/MilanPicard/GPTtrial/blob/main/gpt4_prompting.py)."
      ],
      "metadata": {
        "id": "G2yFSf81JfaQ"
      }
    },
    {
      "cell_type": "code",
      "source": [
        "# deepseek\n",
        "# https://api-docs.deepseek.com/\n",
        "#https://platform.deepseek.com/api_keys\n",
        "key = ''\n",
        "\n",
        "from openai import OpenAI\n",
        "\n",
        "client = OpenAI(api_key=key, base_url=\"https://api.deepseek.com\")\n",
        "\n",
        "response = client.chat.completions.create(\n",
        "    model=\"deepseek-chat\",\n",
        "    messages=[\n",
        "        {\"role\": \"system\", \"content\": \"You are a helpful assistant\"},\n",
        "        {\"role\": \"user\", \"content\": \"Hello\"},\n",
        "    ],\n",
        "    stream=False\n",
        ")\n",
        "\n",
        "print(response.choices[0].message.content)"
      ],
      "metadata": {
        "id": "-gWZrR_p3Mul"
      },
      "execution_count": null,
      "outputs": []
    },
    {
      "cell_type": "code",
      "source": [
        "# chatgpt\n",
        "#https://platform.openai.com/docs/quickstart\n",
        "\n",
        "#https://platform.openai.com/api-keys\n",
        "key = ''\n",
        "\n",
        "from openai import OpenAI\n",
        "client = OpenAI(api_key=key)\n",
        "\n",
        "completion = client.chat.completions.create(\n",
        "    model=\"gpt-4o-mini\",\n",
        "    messages=[\n",
        "        {\"role\": \"system\", \"content\": \"You are a helpful assistant.\"},\n",
        "        {\n",
        "            \"role\": \"user\",\n",
        "            \"content\": \"Write a haiku about recursion in programming.\"\n",
        "        }\n",
        "    ]\n",
        ")\n",
        "\n",
        "print(completion.choices[0].message)"
      ],
      "metadata": {
        "id": "Fsh1ipFu3zW6"
      },
      "execution_count": null,
      "outputs": []
    },
    {
      "cell_type": "markdown",
      "source": [
        "Criar chave na [conta google](https://aistudio.google.com/app/api-keys)."
      ],
      "metadata": {
        "id": "MXBhwMHGFqe8"
      }
    },
    {
      "cell_type": "code",
      "source": [
        "from google import genai\n",
        "\n",
        "key = \"\"\n",
        "\n",
        "client = genai.Client(api_key=key)\n",
        "\n",
        "response = client.models.generate_content(\n",
        "    model=\"gemini-2.5-flash\",\n",
        "    contents=\"Explain how AI works in a few words\",\n",
        ")\n",
        "\n",
        "print(response.text)"
      ],
      "metadata": {
        "id": "wq4M5lE8FTw1"
      },
      "execution_count": null,
      "outputs": []
    }
  ]
}