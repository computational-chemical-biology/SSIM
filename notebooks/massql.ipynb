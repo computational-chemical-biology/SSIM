{
 "cells": [
  {
   "cell_type": "markdown",
   "id": "b536b64d",
   "metadata": {},
   "source": [
    "# MassQL"
   ]
  },
  {
   "cell_type": "code",
   "execution_count": null,
   "id": "ff0339de-6d21-4b08-baf2-6d24f31ff25e",
   "metadata": {},
   "outputs": [],
   "source": [
    "!pip install massql"
   ]
  },
  {
   "cell_type": "code",
   "execution_count": 1,
   "id": "75007642",
   "metadata": {},
   "outputs": [],
   "source": [
    "from massql import msql_engine\n",
    "\n",
    "#results_df = msql_engine.process_query(input_query, input_filename)"
   ]
  },
  {
   "cell_type": "code",
   "execution_count": 2,
   "id": "5c608221",
   "metadata": {},
   "outputs": [
    {
     "name": "stdout",
     "output_type": "stream",
     "text": [
      "Help on function process_query in module massql.msql_engine:\n",
      "\n",
      "process_query(\n",
      "    input_query,\n",
      "    input_filename,\n",
      "    path_to_grammar=None,\n",
      "    cache=None,\n",
      "    cache_dir=None,\n",
      "    cache_file=None,\n",
      "    parallel=False,\n",
      "    ms1_df=None,\n",
      "    ms2_df=None\n",
      ")\n",
      "    Process an actual query\n",
      "\n",
      "    Args:\n",
      "        input_query ([type]): [description]\n",
      "        input_filename ([type]): [description]\n",
      "        path_to_grammar ([type], optional): [description]. Defaults to None.\n",
      "        cache (bool, optional): [description]. Defaults to True.\n",
      "        parallel (bool, optional): [description]. Defaults to False.\n",
      "        ms1_df ([type], optional): [description]. Defaults to None. Pass in if you have these data in memory\n",
      "        ms2_df ([type], optional): [description]. Defaults to None. Pass in if you have these data in memory\n",
      "\n",
      "    Returns:\n",
      "        query results data frame: [description]\n",
      "\n"
     ]
    }
   ],
   "source": [
    "help(msql_engine.process_query)"
   ]
  },
  {
   "cell_type": "code",
   "execution_count": 3,
   "id": "82b2ec56",
   "metadata": {},
   "outputs": [
    {
     "name": "stdout",
     "output_type": "stream",
     "text": [
      "TOTAL QUERIES 1\n"
     ]
    },
    {
     "name": "stderr",
     "output_type": "stream",
     "text": [
      "100%|████████████████████████████████████████████████████████████████████████████████████████████████████████████████████████████████████████████████████████████████████████████████| 1/1 [00:00<00:00, 48.63it/s]"
     ]
    },
    {
     "name": "stdout",
     "output_type": "stream",
     "text": [
      "parsed_dict {\n",
      "    \"querytype\": {\n",
      "        \"function\": \"functionscaninfo\",\n",
      "        \"datatype\": \"datams2data\"\n",
      "    },\n",
      "    \"conditions\": [\n",
      "        {\n",
      "            \"type\": \"ms2productcondition\",\n",
      "            \"value\": [\n",
      "                227.0657\n",
      "            ],\n",
      "            \"conditiontype\": \"where\",\n",
      "            \"qualifiers\": {\n",
      "                \"type\": \"qualifier\",\n",
      "                \"qualifierppmtolerance\": {\n",
      "                    \"name\": \"qualifierppmtolerance\",\n",
      "                    \"unit\": \"ppm\",\n",
      "                    \"value\": 30.0\n",
      "                }\n",
      "            }\n",
      "        }\n",
      "    ],\n",
      "    \"query\": \"QUERY scaninfo(MS2DATA) WHERE MS2PROD=227.0657:TOLERANCEPPM=30\"\n",
      "}\n"
     ]
    },
    {
     "name": "stderr",
     "output_type": "stream",
     "text": [
      "\n"
     ]
    },
    {
     "data": {
      "text/html": [
       "<div>\n",
       "<style scoped>\n",
       "    .dataframe tbody tr th:only-of-type {\n",
       "        vertical-align: middle;\n",
       "    }\n",
       "\n",
       "    .dataframe tbody tr th {\n",
       "        vertical-align: top;\n",
       "    }\n",
       "\n",
       "    .dataframe thead th {\n",
       "        text-align: right;\n",
       "    }\n",
       "</style>\n",
       "<table border=\"1\" class=\"dataframe\">\n",
       "  <thead>\n",
       "    <tr style=\"text-align: right;\">\n",
       "      <th></th>\n",
       "      <th>scan</th>\n",
       "      <th>precmz</th>\n",
       "      <th>ms1scan</th>\n",
       "      <th>rt</th>\n",
       "      <th>charge</th>\n",
       "      <th>i</th>\n",
       "      <th>i_norm</th>\n",
       "      <th>mslevel</th>\n",
       "      <th>i_norm_ms1</th>\n",
       "    </tr>\n",
       "  </thead>\n",
       "  <tbody>\n",
       "    <tr>\n",
       "      <th>0</th>\n",
       "      <td>35</td>\n",
       "      <td>0</td>\n",
       "      <td>0</td>\n",
       "      <td>0</td>\n",
       "      <td>1</td>\n",
       "      <td>7179.4</td>\n",
       "      <td>1.0</td>\n",
       "      <td>2</td>\n",
       "      <td>NaN</td>\n",
       "    </tr>\n",
       "    <tr>\n",
       "      <th>1</th>\n",
       "      <td>19140</td>\n",
       "      <td>0</td>\n",
       "      <td>0</td>\n",
       "      <td>0</td>\n",
       "      <td>1</td>\n",
       "      <td>1686.5</td>\n",
       "      <td>1.0</td>\n",
       "      <td>2</td>\n",
       "      <td>NaN</td>\n",
       "    </tr>\n",
       "    <tr>\n",
       "      <th>2</th>\n",
       "      <td>28186</td>\n",
       "      <td>0</td>\n",
       "      <td>0</td>\n",
       "      <td>0</td>\n",
       "      <td>1</td>\n",
       "      <td>912.6</td>\n",
       "      <td>1.0</td>\n",
       "      <td>2</td>\n",
       "      <td>NaN</td>\n",
       "    </tr>\n",
       "  </tbody>\n",
       "</table>\n",
       "</div>"
      ],
      "text/plain": [
       "    scan  precmz  ms1scan  rt  charge       i  i_norm  mslevel  i_norm_ms1\n",
       "0     35       0        0   0       1  7179.4     1.0        2         NaN\n",
       "1  19140       0        0   0       1  1686.5     1.0        2         NaN\n",
       "2  28186       0        0   0       1   912.6     1.0        2         NaN"
      ]
     },
     "execution_count": 3,
     "metadata": {},
     "output_type": "execute_result"
    }
   ],
   "source": [
    "msql_engine.process_query('QUERY scaninfo(MS2DATA) WHERE MS2PROD=227.0657:TOLERANCEPPM=30', 'specs_ms.mgf')"
   ]
  },
  {
   "cell_type": "code",
   "execution_count": 4,
   "id": "bc62f3b5",
   "metadata": {},
   "outputs": [
    {
     "name": "stdout",
     "output_type": "stream",
     "text": [
      "TOTAL QUERIES 1\n"
     ]
    },
    {
     "name": "stderr",
     "output_type": "stream",
     "text": [
      "100%|████████████████████████████████████████████████████████████████████████████████████████████████████████████████████████████████████████████████████████████████████████████████| 1/1 [00:00<00:00, 23.95it/s]"
     ]
    },
    {
     "name": "stdout",
     "output_type": "stream",
     "text": [
      "parsed_dict {\n",
      "    \"querytype\": {\n",
      "        \"function\": \"functionscaninfo\",\n",
      "        \"datatype\": \"datams2data\"\n",
      "    },\n",
      "    \"conditions\": [],\n",
      "    \"query\": \"QUERY scaninfo(MS2DATA)\"\n",
      "}\n"
     ]
    },
    {
     "name": "stderr",
     "output_type": "stream",
     "text": [
      "\n"
     ]
    }
   ],
   "source": [
    "results_df = msql_engine.process_query('QUERY scaninfo(MS2DATA)', 'specs_ms.mgf')"
   ]
  }
 ],
 "metadata": {
  "kernelspec": {
   "display_name": "massql",
   "language": "python",
   "name": "massql"
  },
  "language_info": {
   "codemirror_mode": {
    "name": "ipython",
    "version": 3
   },
   "file_extension": ".py",
   "mimetype": "text/x-python",
   "name": "python",
   "nbconvert_exporter": "python",
   "pygments_lexer": "ipython3",
   "version": "3.13.7"
  }
 },
 "nbformat": 4,
 "nbformat_minor": 5
}
